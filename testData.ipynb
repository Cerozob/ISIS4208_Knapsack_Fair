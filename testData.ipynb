{
 "cells": [
  {
   "cell_type": "markdown",
   "metadata": {},
   "source": [
    "# 1. generar el caso de prueba"
   ]
  },
  {
   "cell_type": "code",
   "execution_count": 32,
   "metadata": {},
   "outputs": [],
   "source": [
    "import random\n",
    "\n",
    "def gen_test_case():\n",
    "    randomGen = random.Random()\n",
    "    # categorias\n",
    "    randomEpsilon = randomGen.uniform(0.3, 0.7)\n",
    "    nCats = randomGen.randint(2, 5)\n",
    "    # items por categoria\n",
    "    itemsCat = randomGen.randint(2, 5)\n",
    "    # rangos de fairness\n",
    "    lranks = []\n",
    "    uranks = []\n",
    "    for i in range(nCats):\n",
    "        lrank = randomGen.randint(0, itemsCat-1)\n",
    "        urank = randomGen.randint(lrank+1, itemsCat)\n",
    "        lranks.append(lrank)\n",
    "        uranks.append(urank)\n",
    "\n",
    "    # genero items fase 1\n",
    "    minValues = []\n",
    "    itemsGen = []\n",
    "\n",
    "    optimalValue = 0\n",
    "    maxWeight = 0\n",
    "    for i in range(nCats):\n",
    "        items = []\n",
    "        minValue = randomGen.randint(3, 6)\n",
    "        for j in range(uranks[i]):\n",
    "            peso = randomGen.randint(1, 10)\n",
    "            valor = randomGen.randint(minValue, 10)\n",
    "            optimalValue += valor\n",
    "            maxWeight += peso\n",
    "            items.append((peso, valor))\n",
    "        minValues.append(minValue)\n",
    "        itemsGen.append(items)\n",
    "\n",
    "    # genero items de nuevo\n",
    "\n",
    "    for i in range(nCats):\n",
    "        for j in range(itemsCat):\n",
    "            peso = randomGen.randint(1, 10)\n",
    "            valor = randomGen.randint(0, minValues[i])\n",
    "            itemsGen[i].append((peso,valor))\n",
    "    returnObject = {\n",
    "        \"lowerRanks\":lranks,\n",
    "        \"upperRanks\":uranks,\n",
    "        \"nCategories\":nCats,\n",
    "        \"optimalValue\":optimalValue,\n",
    "        \"maxWeight\":maxWeight,\n",
    "        \"epsilon\":randomEpsilon,\n",
    "        \"itemMatrix\":itemsGen\n",
    "    }\n",
    "    print(returnObject)\n",
    "    return returnObject\n",
    "# print(lranks,uranks,sep=\"canoa\")\n",
    "# print(itemsGen,optimalValue,maxWeight,sep=\"canoa\")\n",
    "\n",
    "def parse_input(obj) -> str:\n",
    "    inputString = \"\"\n",
    "    inputString += f'{obj[\"nCategories\"]}\\t{obj[\"maxWeight\"]}\\t{obj[\"epsilon\"]}\\n'\n",
    "    for cat in range(obj[\"nCategories\"]):\n",
    "        inputString += f'{obj[\"lowerRanks\"][cat]}\\t{obj[\"upperRanks\"][cat]}\\n'\n",
    "        inputString += f'{obj[\"itemMatrix\"][cat][0][0]}'\n",
    "        for item in range(1,len(obj[\"itemMatrix\"][cat])):\n",
    "            inputString += f'\\t{obj[\"itemMatrix\"][cat][item][0]}'  \n",
    "        inputString += f'\\n'\n",
    "        inputString += f'{obj[\"itemMatrix\"][cat][0][1]}'\n",
    "        for item in range(len(obj[\"itemMatrix\"][cat])):\n",
    "            inputString += f'\\t{obj[\"itemMatrix\"][cat][item][1]}'\n",
    "        inputString += f'\\n'\n",
    "    return inputString.rstrip(\"\\n\")\n",
    "\n",
    "def gen_test_case_input():\n",
    "    testCase = gen_test_case()\n",
    "    print(testCase)\n",
    "    return parse_input(testCase)"
   ]
  },
  {
   "cell_type": "markdown",
   "metadata": {},
   "source": [
    "# 2. ejecutar el caso de prueba y medir tiempos"
   ]
  },
  {
   "cell_type": "code",
   "execution_count": 36,
   "metadata": {},
   "outputs": [
    {
     "name": "stdout",
     "output_type": "stream",
     "text": [
      "{'lowerRanks': [0, 2], 'upperRanks': [4, 5], 'nCategories': 2, 'optimalValue': 57, 'maxWeight': 43, 'epsilon': 0.400970338069836, 'itemMatrix': [[(7, 5), (7, 9), (1, 7), (1, 10), (10, 3), (4, 3), (5, 4), (9, 1), (9, 1)], [(9, 5), (2, 7), (2, 3), (5, 4), (9, 7), (9, 2), (2, 0), (6, 0), (1, 3), (4, 2)]]}\n",
      "{'lowerRanks': [0, 2], 'upperRanks': [4, 5], 'nCategories': 2, 'optimalValue': 57, 'maxWeight': 43, 'epsilon': 0.400970338069836, 'itemMatrix': [[(7, 5), (7, 9), (1, 7), (1, 10), (10, 3), (4, 3), (5, 4), (9, 1), (9, 1)], [(9, 5), (2, 7), (2, 3), (5, 4), (9, 7), (9, 2), (2, 0), (6, 0), (1, 3), (4, 2)]]}\n",
      "2\t43\t0.400970338069836\n",
      "0\t4\n",
      "7\t7\t1\t1\t10\t4\t5\t9\t9\n",
      "5\t5\t9\t7\t10\t3\t3\t4\t1\t1\n",
      "2\t5\n",
      "9\t2\t2\t5\t9\t9\t2\t6\t1\t4\n",
      "5\t5\t7\t3\t4\t7\t2\t0\t0\t3\t2\n",
      "categorias: 2; capacidad: 43; epsilon: 0.400970338069836\n",
      "cat. actual: 0\n",
      "rangoInferior: 0\n",
      "rangoSuperior: 4\n",
      "pesos: [7, 7, 1, 1, 10, 4, 5, 9, 9]\n",
      "valores: 0\n",
      "cat. actual: 1\n",
      "rangoInferior: 2\n",
      "rangoSuperior: 5\n",
      "pesos: [9, 2, 2, 5, 9, 9, 2, 6, 1, 4]\n",
      "valores: 0\n",
      "[<__main__.Item object at 0x00000228323E1060>, <__main__.Item object at 0x00000228323E1360>, <__main__.Item object at 0x00000228323E10C0>, <__main__.Item object at 0x00000228323E1120>, <__main__.Item object at 0x00000228323E1180>, <__main__.Item object at 0x00000228323E13C0>, <__main__.Item object at 0x00000228323E1420>, <__main__.Item object at 0x00000228323E0EE0>, <__main__.Item object at 0x00000228323E0C40>] 31\n",
      "\n",
      "0.8519964218139648\n",
      "categorias: 2; capacidad: 43; epsilon: 0.400970338069836\n",
      "cat. actual: 0\n",
      "rangoInferior: 0\n",
      "rangoSuperior: 4\n",
      "pesos: [7, 7, 1, 1, 10, 4, 5, 9, 9]\n",
      "valores: 0\n",
      "cat. actual: 1\n",
      "rangoInferior: 2\n",
      "rangoSuperior: 5\n",
      "pesos: [9, 2, 2, 5, 9, 9, 2, 6, 1, 4]\n",
      "valores: 0\n",
      "Traceback (most recent call last):\n",
      "  File \"c:\\Users\\ceroz\\OneDrive - Universidad de los Andes\\ISIS 4208\\ISIS4208_Knapsack_Fair\\algoritmmoknapsack.py\", line 122, in <module>\n",
      "    vmax = paso1()\n",
      "  File \"c:\\Users\\ceroz\\OneDrive - Universidad de los Andes\\ISIS 4208\\ISIS4208_Knapsack_Fair\\algoritmmoknapsack.py\", line 107, in paso1\n",
      "    deleteResult = hasToDeleteFromSolution(precalculated, precalculatedSum, i, matrizItems[i][j])\n",
      "  File \"c:\\Users\\ceroz\\OneDrive - Universidad de los Andes\\ISIS 4208\\ISIS4208_Knapsack_Fair\\algoritmmoknapsack.py\", line 92, in hasToDeleteFromSolution\n",
      "    lastItem = precalculated[i][-1]\n",
      "IndexError: list index out of range\n",
      "\n",
      "0.054001569747924805\n"
     ]
    }
   ],
   "source": [
    "import time\n",
    "import subprocess\n",
    "# myrandomdataparsed = \"3\\t67\\t0.5\\n1\\t2\\n15\\t10\\t20\\n2\\t4\\t6\\n2\\t3\\n10\\t20\\t30\\n1\\t7\\t2\\n2\\t5\\n12\\t15\\t18\\n5\\t4\\t3\"\n",
    "stdincase = gen_test_case_input()\n",
    "print(stdincase)\n",
    "commandNuestro = [\"python\",r\".\\algoritmoNuestro.py\"]\n",
    "commandPaper = [\"python\",r\".\\algoritmmoknapsack.py\"]\n",
    "pNuestro = subprocess.Popen(commandNuestro, stdin=subprocess.PIPE, stdout=subprocess.PIPE, stderr=subprocess.STDOUT)\n",
    "pPaper = subprocess.Popen(commandPaper, stdin=subprocess.PIPE, stdout=subprocess.PIPE, stderr=subprocess.STDOUT)\n",
    "\n",
    "timestart = time.time()\n",
    "output = pNuestro.communicate(input=stdincase.encode())[0]\n",
    "timeend = time.time()\n",
    "timestart2 = time.time()\n",
    "output2 = pPaper.communicate(input=stdincase.encode())[0]\n",
    "timeend2 = time.time()\n",
    "totaltime = timeend-timestart \n",
    "totaltime2 = timeend2-timestart2\n",
    "print(output.decode('utf-8'))\n",
    "print(totaltime)\n",
    "print(output2.decode('utf-8'))\n",
    "print(totaltime2)\n"
   ]
  },
  {
   "cell_type": "markdown",
   "metadata": {},
   "source": [
    "# 3. tomar tiempos acumualados"
   ]
  },
  {
   "cell_type": "code",
   "execution_count": null,
   "metadata": {},
   "outputs": [],
   "source": []
  },
  {
   "cell_type": "markdown",
   "metadata": {},
   "source": [
    "# 3. guardelos"
   ]
  },
  {
   "cell_type": "code",
   "execution_count": null,
   "metadata": {},
   "outputs": [],
   "source": []
  },
  {
   "cell_type": "markdown",
   "metadata": {},
   "source": [
    "# 4. Graficar"
   ]
  },
  {
   "cell_type": "code",
   "execution_count": null,
   "metadata": {},
   "outputs": [],
   "source": []
  }
 ],
 "metadata": {
  "interpreter": {
   "hash": "81057aaeb1f5221a440dd92396727da6fca8ea6022fbc0bc1ff532e4c3802eb7"
  },
  "kernelspec": {
   "display_name": "Python 3.10.2 64-bit",
   "language": "python",
   "name": "python3"
  },
  "language_info": {
   "codemirror_mode": {
    "name": "ipython",
    "version": 3
   },
   "file_extension": ".py",
   "mimetype": "text/x-python",
   "name": "python",
   "nbconvert_exporter": "python",
   "pygments_lexer": "ipython3",
   "version": "3.10.2"
  },
  "orig_nbformat": 4
 },
 "nbformat": 4,
 "nbformat_minor": 2
}
