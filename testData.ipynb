{
 "cells": [
  {
   "cell_type": "markdown",
   "metadata": {},
   "source": [
    "# 1. generar el caso de prueba"
   ]
  },
  {
   "cell_type": "code",
   "execution_count": null,
   "metadata": {},
   "outputs": [],
   "source": [
    "import random\n",
    "\n",
    "def gen_test_case():\n",
    "    randomGen = random.Random()\n",
    "    # categorias\n",
    "    randomEpsilon = randomGen.uniform(0.3, 0.7)\n",
    "    nCats = randomGen.randint(2, 5)\n",
    "    # items por categoria\n",
    "    itemsCat = randomGen.randint(2, 5)\n",
    "    # rangos de fairness\n",
    "    lranks = []\n",
    "    uranks = []\n",
    "    for i in range(nCats):\n",
    "        lrank = randomGen.randint(1, itemsCat-1)\n",
    "        urank = randomGen.randint(lrank+1, itemsCat)\n",
    "        lranks.append(lrank)\n",
    "        uranks.append(urank)\n",
    "\n",
    "    # genero items fase 1\n",
    "    minValues = []\n",
    "    itemsGen = []\n",
    "\n",
    "    optimalValue = 0\n",
    "    maxWeight = 0\n",
    "    for i in range(nCats):\n",
    "        items = []\n",
    "        minValue = randomGen.randint(3, 6)\n",
    "        for j in range(uranks[i]):\n",
    "            peso = randomGen.randint(1, 10)\n",
    "            valor = randomGen.randint(minValue, 10)\n",
    "            optimalValue += valor\n",
    "            maxWeight += peso\n",
    "            items.append((peso, valor))\n",
    "        minValues.append(minValue)\n",
    "        itemsGen.append(items)\n",
    "\n",
    "    # genero items de nuevo\n",
    "\n",
    "    for i in range(nCats):\n",
    "        for j in range(uranks[i], itemsCat):\n",
    "            peso = randomGen.randint(1, 10)\n",
    "            valor = randomGen.randint(0, minValues[i])\n",
    "            itemsGen[i].append((peso,valor))\n",
    "    returnObject = {\n",
    "        \"lowerRanks\":lranks,\n",
    "        \"upperRanks\":uranks,\n",
    "        \"nCategories\":nCats,\n",
    "        \"optimalValue\":optimalValue,\n",
    "        \"maxWeight\":maxWeight,\n",
    "        \"epsilon\":randomEpsilon,\n",
    "        \"itemMatrix\":itemsGen\n",
    "    }\n",
    "    print(returnObject)\n",
    "    return returnObject\n",
    "# print(lranks,uranks,sep=\"canoa\")\n",
    "# print(itemsGen,optimalValue,maxWeight,sep=\"canoa\")\n",
    "\n",
    "def parse_input(obj) -> str:\n",
    "    inputString = \"\"\n",
    "    inputString += f'{obj[\"nCategories\"]}\\t{obj[\"maxWeight\"]}\\t{obj[\"epsilon\"]}\\n'\n",
    "    for cat in range(obj[\"nCategories\"]):\n",
    "        inputString += f'{obj[\"lowerRanks\"][cat]}\\t{obj[\"upperRanks\"][cat]}\\n'\n",
    "        inputString += f'{obj[\"itemMatrix\"][cat][0][0]}'\n",
    "        for item in range(1,len(obj[\"itemMatrix\"][cat])):\n",
    "            inputString += f'\\t{obj[\"itemMatrix\"][cat][item][0]}'  \n",
    "        inputString += f'\\n'\n",
    "        inputString += f'{obj[\"itemMatrix\"][cat][0][1]}'\n",
    "        for item in range(1,len(obj[\"itemMatrix\"][cat])):\n",
    "            inputString += f'\\t{obj[\"itemMatrix\"][cat][item][1]}'\n",
    "        inputString += f'\\n'\n",
    "    return inputString.rstrip(\"\\n\")\n",
    "\n",
    "def gen_test_case_input():\n",
    "    testCase = gen_test_case()\n",
    "    print(testCase)\n",
    "    return {\"input\": parse_input(testCase),\"case\": testCase}"
   ]
  },
  {
   "cell_type": "markdown",
   "metadata": {},
   "source": [
    "# 2. ejecutar el caso de prueba y medir tiempos"
   ]
  },
  {
   "cell_type": "code",
   "execution_count": null,
   "metadata": {},
   "outputs": [],
   "source": [
    "import time\n",
    "import subprocess\n",
    "# myrandomdataparsed = \"3\\t67\\t0.5\\n1\\t2\\n15\\t10\\t20\\n2\\t4\\t6\\n2\\t3\\n10\\t20\\t30\\n1\\t7\\t2\\n2\\t5\\n12\\t15\\t18\\n5\\t4\\t3\"\n",
    "stdincase = gen_test_case_input()\n",
    "optimalValue = stdincase[\"case\"][\"optimalValue\"]\n",
    "print(stdincase)\n",
    "commandNuestro = [\"python\",r\".\\algoritmoNuestro.py\"]\n",
    "commandPaper = [\"python\",r\".\\algoritmoPaper.py\"]\n",
    "pNuestro = subprocess.Popen(commandNuestro, stdin=subprocess.PIPE, stdout=subprocess.PIPE, stderr=subprocess.STDOUT)\n",
    "pPaper = subprocess.Popen(commandPaper, stdin=subprocess.PIPE, stdout=subprocess.PIPE, stderr=subprocess.STDOUT)\n",
    "\n",
    "timestart = time.time()\n",
    "output = pPaper.communicate(input=stdincase[\"input\"].encode())[0]\n",
    "timeend = time.time()\n",
    "timestart2 = time.time()\n",
    "output2 = pNuestro.communicate(input=stdincase[\"input\"].encode())[0]\n",
    "timeend2 = time.time()\n",
    "totaltime = timeend-timestart \n",
    "totaltime2 = timeend2-timestart2\n",
    "print(\"algoritmo paper output\")\n",
    "paperoutput = int(output.decode('utf-8'))\n",
    "print(paperoutput)\n",
    "print(\"algoritmo Nuestro output\")\n",
    "nosotrosoutput = int(output2.decode('utf-8'))\n",
    "print(nosotrosoutput)\n",
    "print(\"algoritmo paper tiempo\")\n",
    "print(totaltime)\n",
    "print(\"algoritmo Nuestro tiempo\")\n",
    "print(totaltime2)\n",
    "print(f\"valor optimo: {optimalValue}\")\n",
    "print(\"distancia al optimo paper\")\n",
    "print(abs(optimalValue-paperoutput))\n",
    "print(\"distancia al optimo nuestro\")\n",
    "print(abs(optimalValue-nosotrosoutput))\n"
   ]
  },
  {
   "cell_type": "markdown",
   "metadata": {},
   "source": [
    "# 2.5 Ejecutar caso de prueba v2"
   ]
  },
  {
   "cell_type": "code",
   "execution_count": null,
   "metadata": {},
   "outputs": [],
   "source": [
    "import time\n",
    "import subprocess\n",
    "# myrandomdataparsed = \"3\\t67\\t0.5\\n1\\t2\\n15\\t10\\t20\\n2\\t4\\t6\\n2\\t3\\n10\\t20\\t30\\n1\\t7\\t2\\n2\\t5\\n12\\t15\\t18\\n5\\t4\\t3\"\n",
    "\n",
    "def exec_testcase():\n",
    "    stdincase = gen_test_case_input()\n",
    "    optimalValue = stdincase[\"case\"][\"optimalValue\"]\n",
    "    print(stdincase)\n",
    "    commandNuestro = [\"python\",r\".\\algoritmoNuestro.py\"]\n",
    "    commandPaper = [\"python\",r\".\\algoritmoPaper.py\"]\n",
    "    pNuestro = subprocess.Popen(commandNuestro, stdin=subprocess.PIPE, stdout=subprocess.PIPE, stderr=subprocess.STDOUT)\n",
    "    pPaper = subprocess.Popen(commandPaper, stdin=subprocess.PIPE, stdout=subprocess.PIPE, stderr=subprocess.STDOUT)\n",
    "\n",
    "    timestart = time.time()\n",
    "    output = pPaper.communicate(input=stdincase[\"input\"].encode())[0]\n",
    "    timeend = time.time()\n",
    "    timestart2 = time.time()\n",
    "    output2 = pNuestro.communicate(input=stdincase[\"input\"].encode())[0]\n",
    "    timeend2 = time.time()\n",
    "    totaltime = timeend-timestart \n",
    "    totaltime2 = timeend2-timestart2\n",
    "    paperoutput = int(output.decode('utf-8'))\n",
    "    nosotrosoutput = int(output2.decode('utf-8'))\n",
    "    results = {\"optimalValue\":optimalValue\n",
    "                ,\"resultPaper\":paperoutput\n",
    "                ,\"resultNuestro\":nosotrosoutput\n",
    "                ,\"timeTakenPaper\":totaltime\n",
    "                ,\"timeTakenNosotros\":totaltime2\n",
    "                ,\"timeStartPaper\":timestart\n",
    "                ,\"timeStartNosotros\":timestart\n",
    "                ,\"case\":stdincase}\n",
    "    return results\n"
   ]
  },
  {
   "cell_type": "markdown",
   "metadata": {},
   "source": [
    "# 3. tomar tiempos acumualados"
   ]
  },
  {
   "cell_type": "code",
   "execution_count": null,
   "metadata": {},
   "outputs": [],
   "source": [
    "import pathlib\n",
    "import json\n",
    "\n",
    "jsonfile = pathlib.Path(\"exec_data.json\")\n",
    "\n",
    "nExcecutions = 10\n",
    "\n",
    "if not jsonfile.exists():\n",
    "    jsonfile.touch()\n",
    "\n",
    "def save_time():\n",
    "    with open(jsonfile, \"a\") as archivo:\n",
    "        archivo.write(\"[\")\n",
    "        for i in range(nExcecutions-1):\n",
    "            jsnstr = json.dumps(exec_testcase())\n",
    "            archivo.write(jsnstr)\n",
    "            archivo.write(\",\")\n",
    "        jsnstr = json.dumps(exec_testcase())\n",
    "        archivo.write(jsnstr)\n",
    "        archivo.write(\"]\")\n",
    "\n",
    "save_time()\n"
   ]
  },
  {
   "cell_type": "markdown",
   "metadata": {},
   "source": [
    "# 4. Graficar"
   ]
  },
  {
   "cell_type": "code",
   "execution_count": 9,
   "metadata": {},
   "outputs": [
    {
     "name": "stdout",
     "output_type": "stream",
     "text": [
      "6.725995302200317\n",
      "11.76799464225769\n",
      "1.692000389099121\n",
      "22.6939959526062\n",
      "9.101998090744019\n",
      "16.910996913909912\n",
      "7.211923599243164\n",
      "0.8809967041015625\n",
      "5.018998861312866\n",
      "1.80800461769104\n"
     ]
    },
    {
     "data": {
      "image/png": "[encoded data removed]",
      "text/plain": [
       "<Figure size 432x288 with 1 Axes>"
      ]
     },
     "metadata": {
      "needs_background": "light"
     },
     "output_type": "display_data"
    }
   ],
   "source": [
    "import matplotlib.pyplot as plt\n",
    "import pathlib\n",
    "import json\n",
    "\n",
    "jsonfile = open(pathlib.Path(\"exec_data.json\"))\n",
    "\n",
    "ejextag = \"Tiempo Paper (segundos)\"\n",
    "ejeytag = \"Tiempo Nosotros (segundos)\"\n",
    "ejex = []\n",
    "ejey = []\n",
    "\n",
    "data = json.load(jsonfile)\n",
    "\n",
    "\n",
    "for case in data:\n",
    "    ejex.append(case[\"timeTakenPaper\"])\n",
    "    ejey.append(case[\"timeTakenNosotros\"])\n",
    "\n",
    "fig, ax = plt.subplots()\n",
    "for i in range(len(data)):\n",
    "    ax.annotate(f\"{i}\", (ejex[i], ejey[i]),xytext=(ejex[i]+0.5, ejey[i]))\n",
    "\n",
    "# Crear la figura y los ejes\n",
    "# Dibujar puntos\n",
    "ax.scatter(x = ejex, y = ejey)\n",
    "ax.plot([min(ejex),max(ejex)],[min(ejey),max(ejey)])\n",
    "ax.set_xlabel(ejextag)\n",
    "ax.set_ylabel(ejeytag)\n",
    "# Guardar el gráfico en formato png\n",
    "# plt.savefig('diagrama-dispersion.png')\n",
    "# Mostrar el gráfico\n",
    "plt.show()"
   ]
  },
  {
   "cell_type": "code",
   "execution_count": 20,
   "metadata": {},
   "outputs": [
    {
     "data": {
      "image/png": "[encoded data removed]",
      "text/plain": [
       "<Figure size 432x288 with 1 Axes>"
      ]
     },
     "metadata": {
      "needs_background": "light"
     },
     "output_type": "display_data"
    }
   ],
   "source": [
    "import matplotlib.pyplot as plt\n",
    "import pathlib\n",
    "import json\n",
    "\n",
    "jsonfile = open(pathlib.Path(\"exec_data.json\"))\n",
    "\n",
    "optimos = []\n",
    "resultsNosotros = []\n",
    "resultsPaper = []\n",
    "\n",
    "distanciasNosotros = []\n",
    "distanciasPaper = []\n",
    "\n",
    "data = json.load(jsonfile)\n",
    "\n",
    "\n",
    "for case in data:\n",
    "    optimo=case[\"optimalValue\"]\n",
    "    resultpaper=case[\"resultPaper\"]\n",
    "    resultnuestro=case[\"resultNuestro\"]\n",
    "    optimos.append(optimo)\n",
    "    resultsNosotros.append(resultpaper)\n",
    "    resultsPaper.append(resultnuestro)\n",
    "    distanciasNosotros.append(abs(optimo-resultnuestro))\n",
    "    distanciasPaper.append(abs(optimo-resultpaper))\n",
    "\n",
    "distanciamaximanosotros = max(distanciasNosotros)\n",
    "distanciamaximapaper = max(distanciasPaper)\n",
    "\n",
    "fig, ax = plt.subplots()\n",
    "\n",
    "ax.hist(distanciasPaper)\n",
    "bars = ax.patches  \n",
    "for rect in bars:\n",
    "    height = rect.get_height()\n",
    "    ax.text(rect.get_x() + rect.get_width() / 2, height+0.01, int(height),\n",
    "            ha='center', va='bottom')\n",
    "\n",
    "plt.show()\n",
    "ax.hist(distanciasNosotros)\n",
    "bars = ax.patches  \n",
    "for rect in bars:\n",
    "    height = rect.get_height()\n",
    "    ax.text(rect.get_x() + rect.get_width() / 2, height+0.01, int(height),\n",
    "            ha='center', va='bottom')\n",
    "# plt.show()\n"
   ]
  }
 ],
 "metadata": {
  "interpreter": {
   "hash": "81057aaeb1f5221a440dd92396727da6fca8ea6022fbc0bc1ff532e4c3802eb7"
  },
  "kernelspec": {
   "display_name": "Python 3.10.2 64-bit",
   "language": "python",
   "name": "python3"
  },
  "language_info": {
   "codemirror_mode": {
    "name": "ipython",
    "version": 3
   },
   "file_extension": ".py",
   "mimetype": "text/x-python",
   "name": "python",
   "nbconvert_exporter": "python",
   "pygments_lexer": "ipython3",
   "version": "3.10.2"
  },
  "orig_nbformat": 4
 },
 "nbformat": 4,
 "nbformat_minor": 2
}
